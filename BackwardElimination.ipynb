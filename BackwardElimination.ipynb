{
 "cells": [
  {
   "cell_type": "code",
   "execution_count": null,
   "metadata": {
    "_cell_guid": "b1076dfc-b9ad-4769-8c92-a6c4dae69d19",
    "_uuid": "8f2839f25d086af736a60e9eeb907d3b93b6e0e5",
    "collapsed": true
   },
   "outputs": [],
   "source": [
    "import pandas as pd\n",
    "import numpy as np\n",
    "import matplotlib.pyplot as plt\n",
    "import seaborn as sns\n",
    "import scipy.stats as stats\n",
    "%matplotlib inline\n",
    "np.set_printoptions(precision=2)\n",
    "pd.set_option('precision', 2)\n",
    "np.set_printoptions(suppress=True)\n",
    "sns.set(style='whitegrid')"
   ]
  },
  {
   "cell_type": "code",
   "execution_count": null,
   "metadata": {
    "_cell_guid": "79c7e3d0-c299-4dcb-8224-4455121ee9b0",
    "_uuid": "d629ff2d2480ee46fbb7e2d37f6b5fab8052498a",
    "collapsed": true
   },
   "outputs": [],
   "source": [
    "train_path = '../input/train.csv'\n",
    "test_path = '../input/test.csv'\n",
    "train_data = pd.read_csv(train_path, index_col='Id')\n",
    "test_data = pd.read_csv(test_path, index_col='Id')\n",
    "features = train_data.iloc[:,:-1]\n",
    "target = train_data.loc[:, ['SalePrice']]\n",
    "print('Train Set Size : ', train_data.shape)\n",
    "print('Test Set Size : ', test_data.shape)\n",
    "print('Train Features Size : ', features.shape)\n",
    "num_train_rows = train_data.shape[0]\n",
    "num_test_rows = test_data.shape[0]\n",
    "print('Train Rows : ', num_train_rows)\n",
    "print('Test Rows : ', num_test_rows)\n",
    "all_data = pd.concat((features, test_data)).reset_index(drop=True)"
   ]
  },
  {
   "cell_type": "code",
   "execution_count": null,
   "metadata": {
    "_uuid": "e0126cda133b86697073494e2160617fd4a8d41a",
    "collapsed": true
   },
   "outputs": [],
   "source": [
    "# Analyze SalePrice\n",
    "print('Skewness of SalePrice before Log Transform : %f'% target.skew())\n",
    "print('Kurtosis of SalePrice before Log Transform : %f'% target.kurt())\n",
    "\n",
    "'''\n",
    "Skew = 1.882876 indicates positive skew with tail to the right.\n",
    "Kurt = 6.536282 indicates heavy tails i.e. more data on tails.\n",
    "'''\n",
    "\n",
    "#Apply Log transformation\n",
    "target['SalePrice'] = np.log(target['SalePrice'])\n",
    "print('Skewness of SalePrice after Log Transform : %f'% target.skew())\n",
    "print('Kurtosis of SalePrice after Log Transform : %f'% target.kurt())"
   ]
  },
  {
   "cell_type": "code",
   "execution_count": null,
   "metadata": {
    "_uuid": "1e53a503c58b942a63eecba84d11add45dc4e598",
    "collapsed": true
   },
   "outputs": [],
   "source": [
    "# Missing Data\n",
    "null_features = all_data.columns[all_data.isnull().any()]\n",
    "missing_ratio = (all_data[null_features].isnull().sum()/len(all_data)) * 100\n",
    "missing_data = pd.DataFrame({'Missing Ratio' :missing_ratio})\n",
    "print(missing_data.sort_values(by='Missing Ratio',ascending=False))\n",
    "\n",
    "\n",
    "for col in ['PoolQC', 'MiscFeature', 'Alley', 'Fence', 'FireplaceQu']:\n",
    "    all_data[col] = all_data[col].fillna('None')\n",
    "\n",
    "for col in ['GarageType', 'GarageFinish', 'GarageQual', 'GarageCond', 'MasVnrType']:\n",
    "    all_data[col] = all_data[col].fillna('None')\n",
    "    \n",
    "for col in ['BsmtExposure', 'BsmtFinType2', 'BsmtQual', 'BsmtCond', 'BsmtFinType1']:\n",
    "    all_data[col] = all_data[col].fillna('None')\n",
    "\n",
    "'''\n",
    "No GarageYrBlt means no Garage. We can impute mean/median since it would \n",
    "incorrectly convey existence of Garage. same reasoning for MasVnrArea.\n",
    "'''\n",
    "for col in ['GarageYrBlt', 'MasVnrArea']:\n",
    "    all_data[col] = all_data[col].fillna(0)\n",
    "\n",
    "'''\n",
    "Group data by neighborhood & imputed null LotFrontage columns with median of\n",
    "grouped data.\n",
    "'''\n",
    "all_data['LotFrontage'] = all_data.groupby(['Neighborhood'])\\\n",
    "                    ['LotFrontage'].transform(lambda x : x.fillna(x.median()))\n",
    "    \n",
    "all_data['Electrical'] = \\\n",
    "    all_data['Electrical'].fillna(all_data['Electrical'].mode()[0])\n",
    "    \n",
    "all_data['MSZoning'] = \\\n",
    "    all_data['MSZoning'].fillna(all_data['MSZoning'].mode()[0])\n",
    "    \n",
    "all_data['Utilities'] = all_data['Utilities'].fillna('ELO')\n",
    "\n",
    "all_data['Exterior1st'] = all_data['Exterior1st'].fillna('Other')\n",
    "\n",
    "all_data['Exterior2nd'] = all_data['Exterior2nd'].fillna('Other')\n",
    "\n",
    "all_data['SaleType'] = all_data['SaleType'].fillna('Oth')\n",
    "\n",
    "all_data['Functional'] = \\\n",
    "    all_data['Functional'].fillna(all_data['Functional'].mode()[0])\n",
    "\n",
    "all_data['KitchenQual'] = \\\n",
    "    all_data['KitchenQual'].fillna(all_data['KitchenQual'].mode()[0])\n",
    "\n",
    "for col in ['BsmtFullBath', 'BsmtHalfBath', 'BsmtFinSF1', 'BsmtFinSF2', 'BsmtUnfSF', 'TotalBsmtSF', 'GarageCars', 'GarageArea']:\n",
    "    all_data[col] = all_data[col].fillna(0)\n",
    "    \n",
    "null_features = all_data.columns[all_data.isnull().any()]\n",
    "missing_ratio = (all_data[null_features].isnull().sum()/len(all_data)) * 100\n",
    "missing_data = pd.DataFrame({'Missing Ratio' :missing_ratio})\n",
    "print(missing_data.sort_values(by='Missing Ratio',ascending=False))"
   ]
  },
  {
   "cell_type": "code",
   "execution_count": null,
   "metadata": {
    "_uuid": "1ed08ea873fba1229f23fc80ee49780f5209853d",
    "collapsed": true
   },
   "outputs": [],
   "source": [
    "num_features = all_data.select_dtypes(include=np.number)\n",
    "\n",
    "import statsmodels.formula.api as sm\n",
    "\n",
    "train_num_features = num_features[:num_train_rows]\n",
    "test_num_features = num_features[num_train_rows:]\n",
    "\n",
    "significance = 0.05\n",
    "train_num_features_ones = np.append(arr=np.ones((1460,1)).astype(int), values=train_num_features, axis=1)\n",
    "\n",
    "train_path = '../input/train.csv'\n",
    "train_dt = pd.read_csv(train_path)\n",
    "cols = num_features.columns.values\n",
    "cols = np.insert(cols, 0, 'intercept')\n",
    "\n",
    "def backwardElimination(cols, train_num_features_ones):\n",
    "    for i in range (0, train_num_features_ones.shape[1]):\n",
    "        regressor_OLS = sm.OLS(endog=target, exog=train_num_features_ones).fit()\n",
    "        maxPVal = max(regressor_OLS.pvalues)\n",
    "        if maxPVal > significance:\n",
    "            for j in range(0, train_num_features_ones.shape[1]):\n",
    "                if (regressor_OLS.pvalues[j].astype(float) == maxPVal):\n",
    "                    train_num_features_ones = np.delete(train_num_features_ones, j, 1)\n",
    "                    cols = np.delete(cols, j)\n",
    "    print(regressor_OLS.summary())\n",
    "    return cols, train_num_features_ones\n",
    "\n",
    "cols, train_num_features_ones_df = backwardElimination(cols, train_num_features_ones)\n",
    "print(cols)"
   ]
  },
  {
   "cell_type": "code",
   "execution_count": null,
   "metadata": {
    "_uuid": "816b2503dcab31248f123eed5be63f6dfa48e942",
    "collapsed": true
   },
   "outputs": [],
   "source": [
    "final_num_features = all_data.loc[:,['MSSubClass', 'LotArea', 'OverallQual', 'OverallCond', 'YearBuilt', 'YearRemodAdd', \n",
    "                               'BsmtFinSF1', 'TotalBsmtSF', 'GrLivArea', 'BsmtFullBath', 'FullBath', 'KitchenAbvGr', \n",
    "                               'TotRmsAbvGrd', 'Fireplaces', 'GarageCars', 'WoodDeckSF', 'EnclosedPorch', \n",
    "                               'ScreenPorch', 'PoolArea', 'YrSold']]\n",
    "final_num_features.insert(0, 'intercept', np.ones((2919,1)))\n",
    "final_train_num_features = final_num_features[:num_train_rows]\n",
    "final_test_num_features = final_num_features[num_train_rows:]\n",
    "\n",
    "from sklearn.cross_validation import train_test_split\n",
    "X_train , X_test, y_train, y_test = train_test_split(final_train_num_features, target, test_size=0.4, random_state=0)\n",
    "\n",
    "from sklearn.linear_model import Ridge\n",
    "regressor = Ridge(alpha=0.05, normalize=True)\n",
    "regressor.fit(X_train, y_train)\n",
    "\n",
    "from sklearn import metrics\n",
    "y_train_predict = regressor.predict(X_test)\n",
    "print('MAE',metrics.mean_absolute_error(y_test, y_train_predict))\n",
    "print('MSE',metrics.mean_squared_error(y_test, y_train_predict))\n",
    "print('RMSE',np.sqrt(metrics.mean_squared_error(y_test, y_train_predict)))\n",
    "print('RMSLE',np.sqrt(metrics.mean_squared_log_error(y_test, y_train_predict)))\n",
    "print(\"Accuracy --> \", regressor.score(X_test, y_test)*100)\n",
    "\n",
    "y_test_predict = regressor.predict(final_test_num_features)\n",
    "y_test_final_predict = np.exp(y_test_predict)\n",
    "test = pd.read_csv('../input/test.csv')\n",
    "my_submission = pd.DataFrame()\n",
    "my_submission['Id'] = test.Id\n",
    "my_submission['SalePrice'] = y_test_final_predict\n",
    "my_submission.to_csv('submission.csv', index=False)"
   ]
  }
 ],
 "metadata": {
  "kernelspec": {
   "display_name": "Python 3",
   "language": "python",
   "name": "python3"
  },
  "language_info": {
   "codemirror_mode": {
    "name": "ipython",
    "version": 3
   },
   "file_extension": ".py",
   "mimetype": "text/x-python",
   "name": "python",
   "nbconvert_exporter": "python",
   "pygments_lexer": "ipython3",
   "version": "3.6.5"
  }
 },
 "nbformat": 4,
 "nbformat_minor": 1
}
