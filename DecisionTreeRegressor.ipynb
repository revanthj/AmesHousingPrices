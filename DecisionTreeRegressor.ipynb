{
 "cells": [
  {
   "cell_type": "code",
   "execution_count": 1,
   "metadata": {},
   "outputs": [],
   "source": [
    "import pandas as pd\n",
    "import numpy as np\n",
    "import matplotlib.pyplot as plt\n",
    "import seaborn as sns\n",
    "import scipy.stats as stats\n",
    "%matplotlib inline\n",
    "np.set_printoptions(precision=2)\n",
    "pd.set_option('precision', 2)\n",
    "np.set_printoptions(suppress=True)\n",
    "sns.set(style='whitegrid')"
   ]
  },
  {
   "cell_type": "code",
   "execution_count": 2,
   "metadata": {},
   "outputs": [
    {
     "name": "stdout",
     "output_type": "stream",
     "text": [
      "Train Set Size :  (1460, 80)\n",
      "Test Set Size :  (1459, 79)\n",
      "Train Features Size :  (1460, 79)\n",
      "Train Rows :  1460\n",
      "Test Rows :  1459\n"
     ]
    }
   ],
   "source": [
    "train_path = 'data/train.csv'\n",
    "test_path = 'data/test.csv'\n",
    "train_data = pd.read_csv(train_path, index_col='Id')\n",
    "test_data = pd.read_csv(test_path, index_col='Id')\n",
    "features = train_data.iloc[:,:-1]\n",
    "target = train_data.loc[:, ['SalePrice']]\n",
    "print('Train Set Size : ', train_data.shape)\n",
    "print('Test Set Size : ', test_data.shape)\n",
    "print('Train Features Size : ', features.shape)\n",
    "num_train_rows = train_data.shape[0]\n",
    "num_test_rows = test_data.shape[0]\n",
    "print('Train Rows : ', num_train_rows)\n",
    "print('Test Rows : ', num_test_rows)\n",
    "all_data = pd.concat((features, test_data)).reset_index(drop=True)"
   ]
  },
  {
   "cell_type": "code",
   "execution_count": 3,
   "metadata": {},
   "outputs": [
    {
     "name": "stdout",
     "output_type": "stream",
     "text": [
      "Skewness of SalePrice before Log Transform : 1.882876\n",
      "Kurtosis of SalePrice before Log Transform : 6.536282\n",
      "Skewness of SalePrice after Log Transform : 0.121335\n",
      "Kurtosis of SalePrice after Log Transform : 0.809532\n"
     ]
    }
   ],
   "source": [
    "# Analyze SalePrice\n",
    "print('Skewness of SalePrice before Log Transform : %f'% target.skew())\n",
    "print('Kurtosis of SalePrice before Log Transform : %f'% target.kurt())\n",
    "\n",
    "'''\n",
    "Skew = 1.882876 indicates positive skew with tail to the right.\n",
    "Kurt = 6.536282 indicates heavy tails i.e. more data on tails.\n",
    "'''\n",
    "\n",
    "#Apply Log transformation\n",
    "target['SalePrice'] = np.log(target['SalePrice'])\n",
    "print('Skewness of SalePrice after Log Transform : %f'% target.skew())\n",
    "print('Kurtosis of SalePrice after Log Transform : %f'% target.kurt())"
   ]
  },
  {
   "cell_type": "code",
   "execution_count": 4,
   "metadata": {},
   "outputs": [
    {
     "name": "stdout",
     "output_type": "stream",
     "text": [
      "              Missing Ratio\n",
      "PoolQC                99.66\n",
      "MiscFeature           96.40\n",
      "Alley                 93.22\n",
      "Fence                 80.44\n",
      "FireplaceQu           48.65\n",
      "LotFrontage           16.65\n",
      "GarageFinish           5.45\n",
      "GarageQual             5.45\n",
      "GarageCond             5.45\n",
      "GarageYrBlt            5.45\n",
      "GarageType             5.38\n",
      "BsmtExposure           2.81\n",
      "BsmtCond               2.81\n",
      "BsmtQual               2.77\n",
      "BsmtFinType2           2.74\n",
      "BsmtFinType1           2.71\n",
      "MasVnrType             0.82\n",
      "MasVnrArea             0.79\n",
      "MSZoning               0.14\n",
      "BsmtFullBath           0.07\n",
      "BsmtHalfBath           0.07\n",
      "Functional             0.07\n",
      "Utilities              0.07\n",
      "GarageArea             0.03\n",
      "GarageCars             0.03\n",
      "Electrical             0.03\n",
      "KitchenQual            0.03\n",
      "TotalBsmtSF            0.03\n",
      "BsmtUnfSF              0.03\n",
      "BsmtFinSF2             0.03\n",
      "BsmtFinSF1             0.03\n",
      "Exterior2nd            0.03\n",
      "Exterior1st            0.03\n",
      "SaleType               0.03\n",
      "Empty DataFrame\n",
      "Columns: [Missing Ratio]\n",
      "Index: []\n"
     ]
    }
   ],
   "source": [
    "# Missing Data\n",
    "null_features = all_data.columns[all_data.isnull().any()]\n",
    "missing_ratio = (all_data[null_features].isnull().sum()/len(all_data)) * 100\n",
    "missing_data = pd.DataFrame({'Missing Ratio' :missing_ratio})\n",
    "print(missing_data.sort_values(by='Missing Ratio',ascending=False))\n",
    "\n",
    "\n",
    "for col in ['PoolQC', 'MiscFeature', 'Alley', 'Fence', 'FireplaceQu']:\n",
    "    all_data[col] = all_data[col].fillna('None')\n",
    "\n",
    "for col in ['GarageType', 'GarageFinish', 'GarageQual', 'GarageCond', 'MasVnrType']:\n",
    "    all_data[col] = all_data[col].fillna('None')\n",
    "    \n",
    "for col in ['BsmtExposure', 'BsmtFinType2', 'BsmtQual', 'BsmtCond', 'BsmtFinType1']:\n",
    "    all_data[col] = all_data[col].fillna('None')\n",
    "\n",
    "'''\n",
    "No GarageYrBlt means no Garage. We can impute mean/median since it would \n",
    "incorrectly convey existence of Garage. same reasoning for MasVnrArea.\n",
    "'''\n",
    "for col in ['GarageYrBlt', 'MasVnrArea']:\n",
    "    all_data[col] = all_data[col].fillna(0)\n",
    "\n",
    "'''\n",
    "Group data by neighborhood & imputed null LotFrontage columns with median of\n",
    "grouped data.\n",
    "'''\n",
    "all_data['LotFrontage'] = all_data.groupby(['Neighborhood'])\\\n",
    "                    ['LotFrontage'].transform(lambda x : x.fillna(x.median()))\n",
    "    \n",
    "all_data['Electrical'] = \\\n",
    "    all_data['Electrical'].fillna(all_data['Electrical'].mode()[0])\n",
    "    \n",
    "all_data['MSZoning'] = \\\n",
    "    all_data['MSZoning'].fillna(all_data['MSZoning'].mode()[0])\n",
    "    \n",
    "all_data['Utilities'] = all_data['Utilities'].fillna('ELO')\n",
    "\n",
    "all_data['Exterior1st'] = all_data['Exterior1st'].fillna('Other')\n",
    "\n",
    "all_data['Exterior2nd'] = all_data['Exterior2nd'].fillna('Other')\n",
    "\n",
    "all_data['SaleType'] = all_data['SaleType'].fillna('Oth')\n",
    "\n",
    "all_data['Functional'] = \\\n",
    "    all_data['Functional'].fillna(all_data['Functional'].mode()[0])\n",
    "\n",
    "all_data['KitchenQual'] = \\\n",
    "    all_data['KitchenQual'].fillna(all_data['KitchenQual'].mode()[0])\n",
    "\n",
    "for col in ['BsmtFullBath', 'BsmtHalfBath', 'BsmtFinSF1', 'BsmtFinSF2', 'BsmtUnfSF', 'TotalBsmtSF', 'GarageCars', 'GarageArea']:\n",
    "    all_data[col] = all_data[col].fillna(0)\n",
    "    \n",
    "null_features = all_data.columns[all_data.isnull().any()]\n",
    "missing_ratio = (all_data[null_features].isnull().sum()/len(all_data)) * 100\n",
    "missing_data = pd.DataFrame({'Missing Ratio' :missing_ratio})\n",
    "print(missing_data.sort_values(by='Missing Ratio',ascending=False))"
   ]
  },
  {
   "cell_type": "code",
   "execution_count": 5,
   "metadata": {},
   "outputs": [
    {
     "name": "stderr",
     "output_type": "stream",
     "text": [
      "c:\\users\\revan\\appdata\\local\\programs\\python\\python36\\lib\\site-packages\\sklearn\\cross_validation.py:41: DeprecationWarning: This module was deprecated in version 0.18 in favor of the model_selection module into which all the refactored classes and functions are moved. Also note that the interface of the new CV iterators are different from that of this module. This module will be removed in 0.20.\n",
      "  \"This module will be removed in 0.20.\", DeprecationWarning)\n"
     ]
    },
    {
     "name": "stdout",
     "output_type": "stream",
     "text": [
      "MAE 0.14003544040136828\n",
      "MSE 0.039965685192865696\n",
      "RMSE 0.19991419457573717\n",
      "RMSLE 0.01560632439593081\n",
      "Accuracy -->  73.5360883329249\n",
      "dot: graph is too large for cairo-renderer bitmaps. Scaling by 0.600689 to fit\n",
      "\n",
      "Max Depth :  21\n",
      "Params :  <bound method BaseEstimator.get_params of DecisionTreeRegressor(criterion='mse', max_depth=None, max_features=None,\n",
      "           max_leaf_nodes=None, min_impurity_decrease=0.0,\n",
      "           min_impurity_split=None, min_samples_leaf=1,\n",
      "           min_samples_split=2, min_weight_fraction_leaf=0.0,\n",
      "           presort=False, random_state=0, splitter='best')>\n"
     ]
    }
   ],
   "source": [
    "final_num_features = all_data.loc[:,['MSSubClass', 'LotArea', 'OverallQual', 'OverallCond', 'YearBuilt', 'YearRemodAdd', \n",
    "                               'BsmtFinSF1', 'TotalBsmtSF', 'GrLivArea', 'BsmtFullBath', 'FullBath', 'KitchenAbvGr', \n",
    "                               'TotRmsAbvGrd', 'Fireplaces', 'GarageCars', 'WoodDeckSF', 'EnclosedPorch', \n",
    "                               'ScreenPorch', 'PoolArea', 'YrSold']]\n",
    "final_num_features.insert(0, 'intercept', np.ones((2919,1)))\n",
    "final_train_num_features = final_num_features[:num_train_rows]\n",
    "final_test_num_features = final_num_features[num_train_rows:]\n",
    "\n",
    "from sklearn.cross_validation import train_test_split\n",
    "X_train , X_test, y_train, y_test = train_test_split(final_train_num_features, target, test_size=0.4, random_state=0)\n",
    "\n",
    "from sklearn.tree import DecisionTreeRegressor\n",
    "regressor = DecisionTreeRegressor(random_state=0)\n",
    "regressor.fit(X_train, y_train)\n",
    "\n",
    "from sklearn import metrics\n",
    "y_train_predict = regressor.predict(X_test)\n",
    "print('MAE',metrics.mean_absolute_error(y_test, y_train_predict))\n",
    "print('MSE',metrics.mean_squared_error(y_test, y_train_predict))\n",
    "print('RMSE',np.sqrt(metrics.mean_squared_error(y_test, y_train_predict)))\n",
    "print('RMSLE',np.sqrt(metrics.mean_squared_log_error(y_test, y_train_predict)))\n",
    "print(\"Accuracy --> \", regressor.score(X_test, y_test)*100)\n",
    "\n",
    "from sklearn.externals.six import StringIO\n",
    "from IPython.display import Image\n",
    "from sklearn.tree import export_graphviz\n",
    "import pydotplus\n",
    "dot_data = StringIO()\n",
    "export_graphviz(regressor, out_file=dot_data,\n",
    "               filled=True, rounded=True,\n",
    "               special_characters=True)\n",
    "graph = pydotplus.graph_from_dot_data(dot_data.getvalue())\n",
    "graph.write_jpeg('defualt_tree.jpeg')\n",
    "print('Max Depth : ', regressor.tree_.max_depth)\n",
    "print('Params : ', regressor.get_params)\n",
    "#Image(graph.create_png())"
   ]
  },
  {
   "cell_type": "code",
   "execution_count": 6,
   "metadata": {},
   "outputs": [
    {
     "name": "stdout",
     "output_type": "stream",
     "text": [
      "MSE for depth - 1 : 0.08141374237956288\n",
      "Accuracy for depth - 1 : 46.09060056342118\n",
      "MSE for depth - 1 : 0.08141374237956288\n",
      "Accuracy for depth - 1 : 46.09060056342118\n",
      "MSE for depth - 2 : 0.05872852126863835\n",
      "Accuracy for depth - 2 : 61.11197914683506\n",
      "MSE for depth - 3 : 0.048506652183856094\n",
      "Accuracy for depth - 3 : 67.88055171669487\n",
      "MSE for depth - 4 : 0.042759146234198506\n",
      "Accuracy for depth - 4 : 71.68635384478847\n",
      "MSE for depth - 5 : 0.03480594053781478\n",
      "Accuracy for depth - 5 : 76.95269500730029\n",
      "MSE for depth - 6 : 0.03554391954888272\n",
      "Accuracy for depth - 6 : 76.46403051257658\n",
      "MSE for depth - 7 : 0.039293635713687394\n",
      "Accuracy for depth - 7 : 73.98109654351987\n",
      "MSE for depth - 8 : 0.03965974569413037\n",
      "Accuracy for depth - 8 : 73.73867101932024\n",
      "MSE for depth - 9 : 0.03718865973070503\n",
      "Accuracy for depth - 9 : 75.37493974190707\n"
     ]
    }
   ],
   "source": [
    "depth_list = np.linspace(1, 10, 10, endpoint=False, dtype=int)\n",
    "mse_list = []\n",
    "acc_list = []\n",
    "for depth in depth_list:\n",
    "    regressor = DecisionTreeRegressor(random_state=0, max_depth=depth)\n",
    "    regressor.fit(X_train, y_train)\n",
    "    y_train_predict = regressor.predict(X_test)\n",
    "    mse = metrics.mean_squared_error(y_test, y_train_predict)\n",
    "    acc = regressor.score(X_test, y_test)*100\n",
    "    mse_list.append(mse)\n",
    "    acc_list.append(acc)\n",
    "    print(\"MSE for depth - {0} : {1}\".format(depth, mse))\n",
    "    print(\"Accuracy for depth - {0} : {1}\".format(depth, acc))\n",
    "    \n",
    "#Best Accuracy 76.95 is for depth 5"
   ]
  },
  {
   "cell_type": "code",
   "execution_count": 7,
   "metadata": {},
   "outputs": [
    {
     "name": "stdout",
     "output_type": "stream",
     "text": [
      "MSE for min_split - 0.01 : 0.03704588037594213\n",
      "Accuracy for min_split - 0.01 : 75.46948335386048\n",
      "MSE for min_split - 0.020000000000000004 : 0.035515332557884256\n",
      "Accuracy for min_split - 0.020000000000000004 : 76.48295984159874\n",
      "MSE for min_split - 0.030000000000000006 : 0.03323592753350655\n",
      "Accuracy for min_split - 0.030000000000000006 : 77.99230399340091\n",
      "MSE for min_split - 0.04000000000000001 : 0.03351457253254428\n",
      "Accuracy for min_split - 0.04000000000000001 : 77.8077947924346\n",
      "MSE for min_split - 0.05000000000000001 : 0.03485559478461908\n",
      "Accuracy for min_split - 0.05000000000000001 : 76.91981566105656\n",
      "MSE for min_split - 0.06000000000000001 : 0.036314941662004205\n",
      "Accuracy for min_split - 0.06000000000000001 : 75.95348600429303\n",
      "MSE for min_split - 0.07 : 0.03640096004763912\n",
      "Accuracy for min_split - 0.07 : 75.89652756736889\n",
      "MSE for min_split - 0.08 : 0.03848509365529783\n",
      "Accuracy for min_split - 0.08 : 74.51648547802901\n",
      "MSE for min_split - 0.09000000000000001 : 0.03848509365529783\n",
      "Accuracy for min_split - 0.09000000000000001 : 74.51648547802901\n"
     ]
    }
   ],
   "source": [
    "min_samples_splits = np.linspace(0.01, 0.1, 9, endpoint=False)\n",
    "sa_sp_mse_list = []\n",
    "sa_sp_acc_list = []\n",
    "for min_split in min_samples_splits:\n",
    "    regressor = DecisionTreeRegressor(random_state=0, min_samples_split=min_split)\n",
    "    regressor.fit(X_train, y_train)\n",
    "    y_train_predict = regressor.predict(X_test)\n",
    "    mse = metrics.mean_squared_error(y_test, y_train_predict)\n",
    "    acc = regressor.score(X_test, y_test)*100\n",
    "    sa_sp_mse_list.append(mse)\n",
    "    sa_sp_acc_list.append(acc)\n",
    "    print(\"MSE for min_split - {0} : {1}\".format(min_split, mse))\n",
    "    print(\"Accuracy for min_split - {0} : {1}\".format(min_split, acc))\n",
    "    \n",
    "#Best Accuracy is 77.99 for min_samples_splits=0.03"
   ]
  },
  {
   "cell_type": "code",
   "execution_count": 8,
   "metadata": {},
   "outputs": [
    {
     "name": "stdout",
     "output_type": "stream",
     "text": [
      "MSE for min_leaf - 0.01 : 0.033536973047382936\n",
      "Accuracy for min_leaf - 0.01 : 77.79296193662027\n",
      "MSE for min_leaf - 0.0325 : 0.037653900203379345\n",
      "Accuracy for min_leaf - 0.0325 : 75.06687339165218\n",
      "MSE for min_leaf - 0.05500000000000001 : 0.04199163535635264\n",
      "Accuracy for min_leaf - 0.05500000000000001 : 72.19457333300228\n",
      "MSE for min_leaf - 0.0775 : 0.047286174235894644\n",
      "Accuracy for min_leaf - 0.0775 : 68.6887105271994\n",
      "MSE for min_leaf - 0.1 : 0.0493300007076024\n",
      "Accuracy for min_leaf - 0.1 : 67.335358446556\n"
     ]
    }
   ],
   "source": [
    "min_samples_leafs = np.linspace(0.01, 0.1, 5, endpoint=True)\n",
    "sa_lf_mse_list = []\n",
    "sa_lf_acc_list = []\n",
    "for min_sm_lf in min_samples_leafs:\n",
    "    regressor = DecisionTreeRegressor(random_state=0, min_samples_leaf=min_sm_lf)\n",
    "    regressor.fit(X_train, y_train)\n",
    "    y_train_predict = regressor.predict(X_test)\n",
    "    mse = metrics.mean_squared_error(y_test, y_train_predict)\n",
    "    acc = regressor.score(X_test, y_test)*100\n",
    "    sa_lf_mse_list.append(mse)\n",
    "    sa_lf_acc_list.append(acc)\n",
    "    print(\"MSE for min_leaf - {0} : {1}\".format(min_sm_lf, mse))\n",
    "    print(\"Accuracy for min_leaf - {0} : {1}\".format(min_sm_lf, acc))\n",
    "    \n",
    "#Best Accuracy 77.79 is for min_leaf - 0.01"
   ]
  },
  {
   "cell_type": "code",
   "execution_count": 9,
   "metadata": {},
   "outputs": [
    {
     "name": "stdout",
     "output_type": "stream",
     "text": [
      "MSE for num_features - 1 : 0.06693872758511475\n",
      "Accuracy for num_features - 1 : 55.67546095180911\n",
      "MSE for num_features - 2 : 0.06567284889721449\n",
      "Accuracy for num_features - 2 : 56.51368258159379\n",
      "MSE for num_features - 3 : 0.05580876338678482\n",
      "Accuracy for num_features - 3 : 63.045343088970384\n",
      "MSE for num_features - 4 : 0.04612254855565273\n",
      "Accuracy for num_features - 4 : 69.45922370786568\n",
      "MSE for num_features - 5 : 0.04551556911395369\n",
      "Accuracy for num_features - 5 : 69.86114476217358\n",
      "MSE for num_features - 6 : 0.04163013916097941\n",
      "Accuracy for num_features - 6 : 72.43394376631713\n",
      "MSE for num_features - 7 : 0.04219935550644966\n",
      "Accuracy for num_features - 7 : 72.0570281444959\n",
      "MSE for num_features - 8 : 0.038190518307684655\n",
      "Accuracy for num_features - 8 : 74.7115432117051\n",
      "MSE for num_features - 9 : 0.04687198969472789\n",
      "Accuracy for num_features - 9 : 68.96296938347598\n",
      "MSE for num_features - 10 : 0.04569003367668504\n",
      "Accuracy for num_features - 10 : 69.74562028774317\n",
      "MSE for num_features - 11 : 0.04061242540493606\n",
      "Accuracy for num_features - 11 : 73.10783905454569\n",
      "MSE for num_features - 12 : 0.037383693290858486\n",
      "Accuracy for num_features - 12 : 75.24579517993824\n",
      "MSE for num_features - 13 : 0.05157770533229641\n",
      "Accuracy for num_features - 13 : 65.84700521666576\n",
      "MSE for num_features - 14 : 0.03823467763977029\n",
      "Accuracy for num_features - 14 : 74.68230241030382\n",
      "MSE for num_features - 15 : 0.04712521831951356\n",
      "Accuracy for num_features - 15 : 68.79529003741791\n",
      "MSE for num_features - 16 : 0.041869681989002955\n",
      "Accuracy for num_features - 16 : 72.27532668742295\n",
      "MSE for num_features - 17 : 0.047718198986180786\n",
      "Accuracy for num_features - 17 : 68.40263849379402\n",
      "MSE for num_features - 18 : 0.04171842102385041\n",
      "Accuracy for num_features - 18 : 72.37548653207858\n",
      "MSE for num_features - 19 : 0.03963116745584079\n",
      "Accuracy for num_features - 19 : 73.75759455259751\n",
      "MSE for num_features - 20 : 0.038051956110531054\n",
      "Accuracy for num_features - 20 : 74.80329436593087\n"
     ]
    }
   ],
   "source": [
    "max_features = list(range(1,X_train.shape[1]))\n",
    "mx_featutes_mse_list = []\n",
    "mx_featutes_acc_list = []\n",
    "for num_features in max_features:\n",
    "    regressor = DecisionTreeRegressor(random_state=0, max_features=num_features)\n",
    "    regressor.fit(X_train, y_train)\n",
    "    y_train_predict = regressor.predict(X_test)\n",
    "    mse = metrics.mean_squared_error(y_test, y_train_predict)\n",
    "    acc = regressor.score(X_test, y_test)*100\n",
    "    mx_featutes_mse_list.append(mse)\n",
    "    mx_featutes_acc_list.append(acc)\n",
    "    print(\"MSE for num_features - {0} : {1}\".format(num_features, mse))\n",
    "    print(\"Accuracy for num_features - {0} : {1}\".format(num_features, acc))\n",
    "    \n",
    "# Best Accuracy is 75.24 is for max_features = 12"
   ]
  },
  {
   "cell_type": "code",
   "execution_count": 10,
   "metadata": {},
   "outputs": [
    {
     "name": "stdout",
     "output_type": "stream",
     "text": [
      "MAE 0.14160306644071782\n",
      "MSE 0.036727531093044136\n",
      "RMSE 0.19164428270377423\n",
      "RMSLE 0.014749777788991692\n",
      "Accuracy -->  75.68028337545985\n",
      "Max Depth :  6\n",
      "Params :  <bound method BaseEstimator.get_params of DecisionTreeRegressor(criterion='mse', max_depth=6, max_features=8,\n",
      "           max_leaf_nodes=None, min_impurity_decrease=0.0,\n",
      "           min_impurity_split=None, min_samples_leaf=0.01,\n",
      "           min_samples_split=0.03, min_weight_fraction_leaf=0.0,\n",
      "           presort=False, random_state=0, splitter='best')>\n"
     ]
    }
   ],
   "source": [
    "regressor = DecisionTreeRegressor(random_state=0, max_depth=6, \n",
    "                        min_samples_split=0.03, min_samples_leaf=0.01, max_features = 8)\n",
    "regressor.fit(X_train, y_train)\n",
    "\n",
    "from sklearn import metrics\n",
    "y_train_predict = regressor.predict(X_test)\n",
    "print('MAE',metrics.mean_absolute_error(y_test, y_train_predict))\n",
    "print('MSE',metrics.mean_squared_error(y_test, y_train_predict))\n",
    "print('RMSE',np.sqrt(metrics.mean_squared_error(y_test, y_train_predict)))\n",
    "print('RMSLE',np.sqrt(metrics.mean_squared_log_error(y_test, y_train_predict)))\n",
    "print(\"Accuracy --> \", regressor.score(X_test, y_test)*100)\n",
    "\n",
    "\n",
    "dot_data = StringIO()\n",
    "export_graphviz(regressor, out_file=dot_data,\n",
    "               filled=True, rounded=True,\n",
    "               special_characters=True)\n",
    "graph = pydotplus.graph_from_dot_data(dot_data.getvalue())\n",
    "graph.write_jpeg('opt_tree.jpeg')\n",
    "print('Max Depth : ', regressor.tree_.max_depth)\n",
    "print('Params : ', regressor.get_params)"
   ]
  },
  {
   "cell_type": "code",
   "execution_count": null,
   "metadata": {},
   "outputs": [],
   "source": []
  }
 ],
 "metadata": {
  "kernelspec": {
   "display_name": "Python 3",
   "language": "python",
   "name": "python3"
  },
  "language_info": {
   "codemirror_mode": {
    "name": "ipython",
    "version": 3
   },
   "file_extension": ".py",
   "mimetype": "text/x-python",
   "name": "python",
   "nbconvert_exporter": "python",
   "pygments_lexer": "ipython3",
   "version": "3.6.5"
  }
 },
 "nbformat": 4,
 "nbformat_minor": 2
}
