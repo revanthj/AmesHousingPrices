{
 "cells": [
  {
   "cell_type": "code",
   "execution_count": null,
   "metadata": {
    "_cell_guid": "b1076dfc-b9ad-4769-8c92-a6c4dae69d19",
    "_uuid": "8f2839f25d086af736a60e9eeb907d3b93b6e0e5",
    "collapsed": true
   },
   "outputs": [],
   "source": [
    "# This Python 3 environment comes with many helpful analytics libraries installed\n",
    "# It is defined by the kaggle/python docker image: https://github.com/kaggle/docker-python\n",
    "# For example, here's several helpful packages to load in \n",
    "\n",
    "import pandas as pd\n",
    "import numpy as np\n",
    "import matplotlib.pyplot as plt\n",
    "import seaborn as sns\n",
    "import scipy.stats as stats\n",
    "%matplotlib inline\n",
    "np.set_printoptions(precision=2)\n",
    "pd.set_option('precision', 2)\n",
    "np.set_printoptions(suppress=True)\n",
    "sns.set(style='whitegrid')\n",
    "\n",
    "# Input data files are available in the \"../input/\" directory.\n",
    "# For example, running this (by clicking run or pressing Shift+Enter) will list the files in the input directory\n",
    "\n",
    "import os\n",
    "\n",
    "# Any results you write to the current directory are saved as output."
   ]
  },
  {
   "cell_type": "code",
   "execution_count": null,
   "metadata": {
    "_cell_guid": "79c7e3d0-c299-4dcb-8224-4455121ee9b0",
    "_uuid": "d629ff2d2480ee46fbb7e2d37f6b5fab8052498a",
    "collapsed": true
   },
   "outputs": [],
   "source": [
    "input_path = 'data/train.csv'\n",
    "train_data = pd.read_csv(input_path, index_col='Id')\n",
    "features = train_data.iloc[:,:-1]\n",
    "target = train_data.loc[:, ['SalePrice']]\n",
    "print(train_data.shape)\n",
    "print(features.shape)"
   ]
  },
  {
   "cell_type": "code",
   "execution_count": null,
   "metadata": {
    "_uuid": "aa1b82858d5a9a61808189f29840813ec1e57c08",
    "collapsed": true
   },
   "outputs": [],
   "source": [
    "# Missing Data\n",
    "null_features = train_data.columns[train_data.isnull().any()]\n",
    "missing_ratio = (train_data[null_features].isnull().sum()/len(train_data)) * 100\n",
    "missing_data = pd.DataFrame({'Missing Ratio' :missing_ratio})\n",
    "print(missing_data.sort_values(by='Missing Ratio',ascending=False))\n",
    "\n",
    "\n",
    "for col in ['PoolQC', 'MiscFeature', 'Alley', 'Fence', 'FireplaceQu']:\n",
    "    train_data[col] = train_data[col].fillna('None')\n",
    "\n",
    "for col in ['GarageType', 'GarageFinish', 'GarageQual', 'GarageCond', 'MasVnrType']:\n",
    "    train_data[col] = train_data[col].fillna('None')\n",
    "    \n",
    "for col in ['BsmtExposure', 'BsmtFinType2', 'BsmtQual', 'BsmtCond', 'BsmtFinType1']:\n",
    "    train_data[col] = train_data[col].fillna('None')\n",
    "\n",
    "'''\n",
    "No GarageYrBlt means no Garage. We can impute mean/median since it would \n",
    "incorrectly convey existence of Garage. same reasoning for MasVnrArea.\n",
    "'''\n",
    "for col in ['GarageYrBlt', 'MasVnrArea']:\n",
    "    train_data[col] = train_data[col].fillna(0)\n",
    "\n",
    "'''\n",
    "Group data by neighborhood & imputed null LotFrontage columns with median of\n",
    "grouped data.\n",
    "'''\n",
    "train_data['LotFrontage'] = train_data.groupby(['Neighborhood'])\\\n",
    "                    ['LotFrontage'].transform(lambda x : x.fillna(x.median()))\n",
    "    \n",
    "train_data['Electrical'] = \\\n",
    "    train_data['Electrical'].fillna(train_data['Electrical'].mode()[0])\n",
    "    \n",
    "null_features = train_data.columns[train_data.isnull().any()]\n",
    "missing_ratio = (train_data[null_features].isnull().sum()/len(train_data)) * 100\n",
    "missing_data = pd.DataFrame({'Missing Ratio' :missing_ratio})\n",
    "print(missing_data.sort_values(by='Missing Ratio',ascending=False))"
   ]
  },
  {
   "cell_type": "code",
   "execution_count": null,
   "metadata": {
    "_uuid": "016b7c8922d3d958e4b9814694ea225a74ec5809",
    "collapsed": true
   },
   "outputs": [],
   "source": [
    "# Numerical Variable Analysis\n",
    "num_features = train_data.select_dtypes(include=np.number)\n",
    "num_feature_nms = num_features.columns\n",
    "print('Number of cat features : ' + str(num_feature_nms.size))\n",
    "\n",
    "def find_spearman_corr(train_data, features):\n",
    "    sprearman_corr_df = pd.DataFrame()\n",
    "    sprearman_corr_df['feature'] = features\n",
    "    sprearman_corr_df['spearman'] = [train_data[f].corr(train_data['SalePrice'], 'spearman') for f in features]\n",
    "    sprearman_corr_df = sprearman_corr_df.sort_values('spearman')\n",
    "    plt.figure(figsize=(20,10))\n",
    "    sns.barplot(data=sprearman_corr_df, y='feature', x='spearman')\n",
    "    return sprearman_corr_df\n",
    "    \n",
    "sprearman_corr_df = find_spearman_corr(train_data, num_feature_nms)"
   ]
  },
  {
   "cell_type": "code",
   "execution_count": null,
   "metadata": {
    "_uuid": "bbdeccda9e06cc6349e3cff5f2dd238f1b12f6d3",
    "collapsed": true
   },
   "outputs": [],
   "source": [
    "'''\n",
    "Picked these features from correlation with SalePrice.\n",
    "OverallQual, GrLivArea, GarageCars, YearBuilt, GarageArea, FullBath, GarageYrBlt,\n",
    "TotalBsmtSF, 1stFlrSF, YearRemodAdd, TotRmsAbvGrd, Fireplaces, OpenPorchSF, \n",
    "LotArea, MasVnrArea.\n",
    "\n",
    "Lets check correlation between one another.\n",
    "'''\n",
    "\n",
    "sig_num_cols = ['OverallQual', 'GrLivArea', 'GarageCars', 'YearBuilt', 'GarageArea',\n",
    "               'FullBath', 'GarageYrBlt', 'TotalBsmtSF', '1stFlrSF', 'YearRemodAdd',\n",
    "               'TotRmsAbvGrd', 'Fireplaces', 'OpenPorchSF', 'LotArea', 'MasVnrArea']\n",
    "\n",
    "spearman_corr = train_data[sig_num_cols].corr('spearman')\n",
    "\n",
    "sns.set(font_scale=1.10)\n",
    "plt.figure(figsize=(10, 10))\n",
    "sns.heatmap(spearman_corr, vmax=.6, linewidths=0.01, square=True,annot=True,cmap='viridis',linecolor=\"white\")\n",
    "plt.title('Spearman Correlation between features')"
   ]
  },
  {
   "cell_type": "code",
   "execution_count": null,
   "metadata": {
    "_uuid": "deb219b8b66675e5dc2e683165776ac1df5019d9",
    "collapsed": true
   },
   "outputs": [],
   "source": [
    "'''\n",
    "GrLivArea & TotRmsAbvGrd = 0.83\n",
    "GarageCars & GarageArea = 0.85\n",
    "YearBuilt & GarageYrBlt = 0.86\n",
    "1stFlrSF & TotalBsmtSF = 0.83\n",
    "YearRemodAdd with YearBuilt & GarageYrBlt = 0.68\n",
    "GarageYrBlt & GarageArea = 0.66\n",
    "GarageYrBlt & GarageCars = 0.69\n",
    "FullBath & GrLivArea = 0.66\n",
    "\n",
    "\n",
    "Exclude GrLivArea, GarageArea, GarageYrBlt, 1stFlrSF features owing to \n",
    "high correlation.\n",
    "\n",
    "Final Numerical Features :\n",
    "'OverallQual', 'GarageCars', 'YearBuilt','FullBath', 'TotalBsmtSF', \n",
    "'YearRemodAdd', 'TotRmsAbvGrd', 'Fireplaces', 'OpenPorchSF', 'LotArea', \n",
    "'MasVnrArea'\n",
    "'''\n",
    "\n"
   ]
  },
  {
   "cell_type": "code",
   "execution_count": null,
   "metadata": {
    "_uuid": "dac1773cc3b53360f7fce21faf96fbedc92cec2a",
    "collapsed": true
   },
   "outputs": [],
   "source": []
  }
 ],
 "metadata": {
  "kernelspec": {
   "display_name": "Python 3",
   "language": "python",
   "name": "python3"
  },
  "language_info": {
   "codemirror_mode": {
    "name": "ipython",
    "version": 3
   },
   "file_extension": ".py",
   "mimetype": "text/x-python",
   "name": "python",
   "nbconvert_exporter": "python",
   "pygments_lexer": "ipython3",
   "version": "3.6.5"
  }
 },
 "nbformat": 4,
 "nbformat_minor": 1
}
