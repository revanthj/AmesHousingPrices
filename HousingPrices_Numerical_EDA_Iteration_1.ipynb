{
 "cells": [
  {
   "cell_type": "code",
   "execution_count": null,
   "metadata": {
    "_cell_guid": "b1076dfc-b9ad-4769-8c92-a6c4dae69d19",
    "_uuid": "8f2839f25d086af736a60e9eeb907d3b93b6e0e5",
    "collapsed": true
   },
   "outputs": [],
   "source": [
    "# This Python 3 environment comes with many helpful analytics libraries installed\n",
    "# It is defined by the kaggle/python docker image: https://github.com/kaggle/docker-python\n",
    "# For example, here's several helpful packages to load in \n",
    "\n",
    "import pandas as pd\n",
    "import numpy as np\n",
    "import matplotlib.pyplot as plt\n",
    "import seaborn as sns\n",
    "%matplotlib inline\n",
    "np.set_printoptions(precision=2)\n",
    "pd.set_option('precision', 2)\n",
    "np.set_printoptions(suppress=True)\n",
    "sns.set(style='whitegrid')\n",
    "\n",
    "# Input data files are available in the \"../input/\" directory.\n",
    "# For example, running this (by clicking run or pressing Shift+Enter) will list the files in the input directory\n",
    "\n",
    "import os\n",
    "\n",
    "# Any results you write to the current directory are saved as output."
   ]
  },
  {
   "cell_type": "code",
   "execution_count": null,
   "metadata": {
    "_cell_guid": "79c7e3d0-c299-4dcb-8224-4455121ee9b0",
    "_uuid": "d629ff2d2480ee46fbb7e2d37f6b5fab8052498a",
    "collapsed": true
   },
   "outputs": [],
   "source": [
    "input_path = 'data/train.csv'\n",
    "iowa_house_data = pd.read_csv(input_path, index_col='Id')\n",
    "target = iowa_house_data.iloc[:,-1].values\n",
    "\n",
    "numerical_features = iowa_house_data.select_dtypes(include=[np.number])\n",
    "print('Number of numerical features : ' + str(numerical_features.columns.values.size))\n",
    "print(numerical_features.columns.values)"
   ]
  },
  {
   "cell_type": "code",
   "execution_count": null,
   "metadata": {
    "_uuid": "3a063e31a975805e3e38db078577cbf62c846231",
    "collapsed": true
   },
   "outputs": [],
   "source": [
    "corr = numerical_features.corr()\n",
    "print('Features that have Highest Positive Correlation with SalePrice :')\n",
    "print(corr.SalePrice.sort_values(ascending=False)[:10])\n",
    "\n",
    "numeric_predictors = corr.iloc[:-1,:-1]\n",
    "threshold = 0.5\n",
    "\n",
    "imp_num_features = (numeric_predictors[abs(numeric_predictors) > threshold]\\\n",
    "                    [numeric_predictors != 1.0])\\\n",
    "                    .unstack().dropna().to_dict()\n",
    "    \n",
    "'''\n",
    "imp_num_features contains Duplicates keys such as \n",
    "('OverallQual', 'YearBuilt') & ('YearBuilt', 'OverallQual').\n",
    "DELETE THEM using Set operation below\n",
    "'''\n",
    "unique_imp_num_features = pd.DataFrame(list(set([(tuple(sorted(key)), imp_num_features[key]) \\\n",
    "                          for key in imp_num_features])), \\\n",
    "                                       columns=['Attribute Pair', 'Correlation'])\n",
    "unique_imp_num_features = unique_imp_num_features.ix[abs\\\n",
    "                        (unique_imp_num_features['Correlation']).argsort()[::-1]]\n",
    "unique_imp_num_features"
   ]
  },
  {
   "cell_type": "code",
   "execution_count": null,
   "metadata": {
    "_uuid": "37d2178d16cc025bb6b0db9b28866878eecae662",
    "collapsed": true
   },
   "outputs": [],
   "source": [
    "'''\n",
    "    Remove features with high collinearity.\n",
    "    1. (GarageArea, GarageCars)\t0.88 : Remove GarageArea as this column contains \n",
    "    big numbers.\n",
    "    2. (GrLivArea, TotRmsAbvGrd)\t0.83 : Remove GrLivArea as this column contains\n",
    "    big numbers.\n",
    "    3. (1stFlrSF, TotalBsmtSF)\t0.82 : Remove 1stFlrSF\n",
    "    4. Finally, 6 numberical features are selected.\n",
    "    OverallQual, GarageCars, TotalBsmtSF, FullBath, TotRmsAbvGrd, YearBuilt\n",
    "'''"
   ]
  }
 ],
 "metadata": {
  "kernelspec": {
   "display_name": "Python 3",
   "language": "python",
   "name": "python3"
  },
  "language_info": {
   "codemirror_mode": {
    "name": "ipython",
    "version": 3
   },
   "file_extension": ".py",
   "mimetype": "text/x-python",
   "name": "python",
   "nbconvert_exporter": "python",
   "pygments_lexer": "ipython3",
   "version": "3.6.5"
  }
 },
 "nbformat": 4,
 "nbformat_minor": 1
}
