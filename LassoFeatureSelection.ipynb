{
 "cells": [
  {
   "cell_type": "code",
   "execution_count": 1,
   "metadata": {
    "_cell_guid": "b1076dfc-b9ad-4769-8c92-a6c4dae69d19",
    "_uuid": "8f2839f25d086af736a60e9eeb907d3b93b6e0e5"
   },
   "outputs": [],
   "source": [
    "import pandas as pd\n",
    "import numpy as np\n",
    "import matplotlib.pyplot as plt\n",
    "import seaborn as sns\n",
    "import scipy.stats as stats\n",
    "%matplotlib inline\n",
    "np.set_printoptions(precision=2)\n",
    "pd.set_option('precision', 2)\n",
    "np.set_printoptions(suppress=True)\n",
    "sns.set(style='whitegrid')"
   ]
  },
  {
   "cell_type": "code",
   "execution_count": 2,
   "metadata": {
    "_cell_guid": "79c7e3d0-c299-4dcb-8224-4455121ee9b0",
    "_uuid": "d629ff2d2480ee46fbb7e2d37f6b5fab8052498a"
   },
   "outputs": [
    {
     "name": "stdout",
     "output_type": "stream",
     "text": [
      "Train Set Size :  (1460, 80)\n",
      "Test Set Size :  (1459, 79)\n",
      "Train Features Size :  (1460, 79)\n",
      "Train Rows :  1460\n",
      "Test Rows :  1459\n"
     ]
    }
   ],
   "source": [
    "train_path = 'data/train.csv'\n",
    "test_path = 'data/test.csv'\n",
    "train_data = pd.read_csv(train_path, index_col='Id')\n",
    "test_data = pd.read_csv(test_path, index_col='Id')\n",
    "features = train_data.iloc[:,:-1]\n",
    "target = train_data.loc[:, ['SalePrice']]\n",
    "print('Train Set Size : ', train_data.shape)\n",
    "print('Test Set Size : ', test_data.shape)\n",
    "print('Train Features Size : ', features.shape)\n",
    "num_train_rows = train_data.shape[0]\n",
    "num_test_rows = test_data.shape[0]\n",
    "print('Train Rows : ', num_train_rows)\n",
    "print('Test Rows : ', num_test_rows)\n",
    "\n",
    "all_data = pd.concat((features, test_data)).reset_index(drop=True)"
   ]
  },
  {
   "cell_type": "code",
   "execution_count": 3,
   "metadata": {
    "_uuid": "9bf349f33f5110e1fbfdbad70cee8aa49855dd77"
   },
   "outputs": [
    {
     "name": "stdout",
     "output_type": "stream",
     "text": [
      "Skewness of SalePrice before Log Transform : 1.882876\n",
      "Kurtosis of SalePrice before Log Transform : 6.536282\n",
      "Skewness of SalePrice after Log Transform : 0.121335\n",
      "Kurtosis of SalePrice after Log Transform : 0.809532\n"
     ]
    }
   ],
   "source": [
    "# Analyze SalePrice\n",
    "print('Skewness of SalePrice before Log Transform : %f'% target.skew())\n",
    "print('Kurtosis of SalePrice before Log Transform : %f'% target.kurt())\n",
    "\n",
    "'''\n",
    "Skew = 1.882876 indicates positive skew with tail to the right.\n",
    "Kurt = 6.536282 indicates heavy tails i.e. more data on tails.\n",
    "'''\n",
    "\n",
    "#Apply Log transformation\n",
    "target['SalePrice'] = np.log(target['SalePrice'])\n",
    "print('Skewness of SalePrice after Log Transform : %f'% target.skew())\n",
    "print('Kurtosis of SalePrice after Log Transform : %f'% target.kurt())"
   ]
  },
  {
   "cell_type": "code",
   "execution_count": 4,
   "metadata": {
    "_uuid": "ebd79ffb9c5cb3642d0bc42226ce00dee8450e0c"
   },
   "outputs": [
    {
     "name": "stdout",
     "output_type": "stream",
     "text": [
      "              Missing Ratio\n",
      "PoolQC                99.66\n",
      "MiscFeature           96.40\n",
      "Alley                 93.22\n",
      "Fence                 80.44\n",
      "FireplaceQu           48.65\n",
      "LotFrontage           16.65\n",
      "GarageFinish           5.45\n",
      "GarageQual             5.45\n",
      "GarageCond             5.45\n",
      "GarageYrBlt            5.45\n",
      "GarageType             5.38\n",
      "BsmtExposure           2.81\n",
      "BsmtCond               2.81\n",
      "BsmtQual               2.77\n",
      "BsmtFinType2           2.74\n",
      "BsmtFinType1           2.71\n",
      "MasVnrType             0.82\n",
      "MasVnrArea             0.79\n",
      "MSZoning               0.14\n",
      "BsmtFullBath           0.07\n",
      "BsmtHalfBath           0.07\n",
      "Functional             0.07\n",
      "Utilities              0.07\n",
      "GarageArea             0.03\n",
      "GarageCars             0.03\n",
      "Electrical             0.03\n",
      "KitchenQual            0.03\n",
      "TotalBsmtSF            0.03\n",
      "BsmtUnfSF              0.03\n",
      "BsmtFinSF2             0.03\n",
      "BsmtFinSF1             0.03\n",
      "Exterior2nd            0.03\n",
      "Exterior1st            0.03\n",
      "SaleType               0.03\n",
      "Empty DataFrame\n",
      "Columns: [Missing Ratio]\n",
      "Index: []\n"
     ]
    }
   ],
   "source": [
    "# Missing Data\n",
    "null_features = all_data.columns[all_data.isnull().any()]\n",
    "missing_ratio = (all_data[null_features].isnull().sum()/len(all_data)) * 100\n",
    "missing_data = pd.DataFrame({'Missing Ratio' :missing_ratio})\n",
    "print(missing_data.sort_values(by='Missing Ratio',ascending=False))\n",
    "\n",
    "\n",
    "for col in ['PoolQC', 'MiscFeature', 'Alley', 'Fence', 'FireplaceQu']:\n",
    "    all_data[col] = all_data[col].fillna('None')\n",
    "\n",
    "for col in ['GarageType', 'GarageFinish', 'GarageQual', 'GarageCond', 'MasVnrType']:\n",
    "    all_data[col] = all_data[col].fillna('None')\n",
    "    \n",
    "for col in ['BsmtExposure', 'BsmtFinType2', 'BsmtQual', 'BsmtCond', 'BsmtFinType1']:\n",
    "    all_data[col] = all_data[col].fillna('None')\n",
    "\n",
    "'''\n",
    "No GarageYrBlt means no Garage. We can impute mean/median since it would \n",
    "incorrectly convey existence of Garage. same reasoning for MasVnrArea.\n",
    "'''\n",
    "for col in ['GarageYrBlt', 'MasVnrArea']:\n",
    "    all_data[col] = all_data[col].fillna(0)\n",
    "    \n",
    "'''\n",
    "Group data by neighborhood & imputed null LotFrontage columns with median of\n",
    "grouped data.\n",
    "'''\n",
    "all_data['LotFrontage'] = all_data.groupby(['Neighborhood'])\\\n",
    "                    ['LotFrontage'].transform(lambda x : x.fillna(x.median()))\n",
    "    \n",
    "all_data['Electrical'] = \\\n",
    "    all_data['Electrical'].fillna(all_data['Electrical'].mode()[0])\n",
    "    \n",
    "all_data['MSZoning'] = \\\n",
    "    all_data['MSZoning'].fillna(all_data['MSZoning'].mode()[0])\n",
    "    \n",
    "all_data['Utilities'] = all_data['Utilities'].fillna('ELO')\n",
    "\n",
    "all_data['Exterior1st'] = all_data['Exterior1st'].fillna('Other')\n",
    "\n",
    "all_data['Exterior2nd'] = all_data['Exterior2nd'].fillna('Other')\n",
    "\n",
    "all_data['SaleType'] = all_data['SaleType'].fillna('Oth')\n",
    "\n",
    "all_data['Functional'] = \\\n",
    "    all_data['Functional'].fillna(all_data['Functional'].mode()[0])\n",
    "\n",
    "all_data['KitchenQual'] = \\\n",
    "    all_data['KitchenQual'].fillna(all_data['KitchenQual'].mode()[0])\n",
    "\n",
    "for col in ['BsmtFullBath', 'BsmtHalfBath', 'BsmtFinSF1', 'BsmtFinSF2', 'BsmtUnfSF', 'TotalBsmtSF', 'GarageCars', 'GarageArea']:\n",
    "    all_data[col] = all_data[col].fillna(0)\n",
    "    \n",
    "null_features = all_data.columns[all_data.isnull().any()]\n",
    "missing_ratio = (all_data[null_features].isnull().sum()/len(all_data)) * 100\n",
    "missing_data = pd.DataFrame({'Missing Ratio' :missing_ratio})\n",
    "print(missing_data.sort_values(by='Missing Ratio',ascending=False))"
   ]
  },
  {
   "cell_type": "code",
   "execution_count": 5,
   "metadata": {
    "_uuid": "75ae2a10f07d020951ebb344d9908948e80358c8"
   },
   "outputs": [
    {
     "name": "stdout",
     "output_type": "stream",
     "text": [
      "Index(['MSSubClass', 'LotFrontage', 'LotArea', 'OverallQual', 'OverallCond',\n",
      "       'YearBuilt', 'YearRemodAdd', 'MasVnrArea', 'BsmtFinSF1', 'BsmtFinSF2',\n",
      "       'BsmtUnfSF', 'TotalBsmtSF', '1stFlrSF', '2ndFlrSF', 'LowQualFinSF',\n",
      "       'GrLivArea', 'BsmtFullBath', 'BsmtHalfBath', 'FullBath', 'HalfBath',\n",
      "       'BedroomAbvGr', 'KitchenAbvGr', 'TotRmsAbvGrd', 'Fireplaces',\n",
      "       'GarageYrBlt', 'GarageCars', 'GarageArea', 'WoodDeckSF', 'OpenPorchSF',\n",
      "       'EnclosedPorch', '3SsnPorch', 'ScreenPorch', 'PoolArea', 'MiscVal',\n",
      "       'MoSold', 'YrSold'],\n",
      "      dtype='object')\n"
     ]
    },
    {
     "name": "stderr",
     "output_type": "stream",
     "text": [
      "c:\\users\\revan\\appdata\\local\\programs\\python\\python36\\lib\\site-packages\\sklearn\\cross_validation.py:41: DeprecationWarning: This module was deprecated in version 0.18 in favor of the model_selection module into which all the refactored classes and functions are moved. Also note that the interface of the new CV iterators are different from that of this module. This module will be removed in 0.20.\n",
      "  \"This module will be removed in 0.20.\", DeprecationWarning)\n"
     ]
    },
    {
     "name": "stdout",
     "output_type": "stream",
     "text": [
      "[-0.0, 0.0, 0.0, 0.0951805672499403, 0.0, 0.000652392845063737, 0.0008132559259439562, 0.0, 1.2842157334837318e-05, 0.0, -0.0, 0.00010156461582879786, 0.0, 0.0, -0.0, 0.00017061795053727755, 0.0, 0.0, 0.0, 0.0, 0.0, -0.0, 0.0, 0.0073877877333656545, 0.0, 0.047684202538174805, 7.6454937961395e-05, 0.0, 0.0, -0.0, 0.0, 0.0, 0.0, 0.0, 0.0, -0.0]\n"
     ]
    },
    {
     "data": {
      "text/plain": [
       "'\\nFrom Lasso Regression, we find below parameters have significant impact on SalePrice.\\nOverallQual, YearBuilt, YearRemodAdd, TotalBsmtSF, GarageCars, Fireplaces\\n'"
      ]
     },
     "execution_count": 5,
     "metadata": {},
     "output_type": "execute_result"
    }
   ],
   "source": [
    "train_data_features = all_data[:num_train_rows]\n",
    "test_data_features = all_data[num_train_rows:]\n",
    "\n",
    "train_data_num_features= train_data_features.select_dtypes(include=np.number)\n",
    "\n",
    "print(train_data_num_features.columns)\n",
    "\n",
    "from sklearn.cross_validation import train_test_split\n",
    "X_train , X_test, y_train, y_test = train_test_split(train_data_num_features, target, test_size=0.2, random_state=0)\n",
    "\n",
    "from sklearn.linear_model import Lasso\n",
    "regressor = Lasso(alpha=0.002, normalize=True)\n",
    "regressor.fit(X_train, y_train)\n",
    "\n",
    "coe = [ x for x in regressor.coef_]\n",
    "\n",
    "print(coe)\n",
    "\n",
    "'''\n",
    "From Lasso Regression, we find below parameters have significant impact on SalePrice.\n",
    "OverallQual, YearBuilt, YearRemodAdd, TotalBsmtSF, GarageCars, Fireplaces\n",
    "'''"
   ]
  },
  {
   "cell_type": "code",
   "execution_count": 6,
   "metadata": {
    "_uuid": "62bba4ae4d35f06f73a02ec897709b60824f975c"
   },
   "outputs": [
    {
     "name": "stdout",
     "output_type": "stream",
     "text": [
      "Skewness of OverallQual before Log Transform : 0.197212\n",
      "Kurtosis of OverallQual before Log Transform : 0.067219\n",
      "Skewness of YearBuilt before Log Transform : -0.600114\n",
      "Kurtosis of YearBuilt before Log Transform : -0.511317\n",
      "Skewness of YearRemodAdd before Log Transform : -0.451252\n",
      "Kurtosis of YearRemodAdd before Log Transform : -1.346431\n",
      "Skewness of TotalBsmtSF before Log Transform : 1.157489\n",
      "Kurtosis of TotalBsmtSF before Log Transform : 9.122827\n",
      "Skewness of GarageCars before Log Transform : -0.219694\n",
      "Kurtosis of GarageCars before Log Transform : 0.236592\n",
      "Skewness of Fireplaces before Log Transform : 0.733872\n",
      "Kurtosis of Fireplaces before Log Transform : 0.076424\n",
      "Skewness of TotalBsmtSF after Log Transform : -0.424181\n",
      "Kurtosis of TotalBsmtSF after Log Transform : 1.712836\n"
     ]
    }
   ],
   "source": [
    "'''\n",
    "                    Numerical Features - Analysis\n",
    "Selected Features : \n",
    "    OverallQual, YearBuilt, YearRemodAdd, TotalBsmtSF, GarageCars, Fireplaces\n",
    "'''\n",
    "print('Skewness of OverallQual before Log Transform : %f'% all_data['OverallQual'].skew())\n",
    "print('Kurtosis of OverallQual before Log Transform : %f'% all_data['OverallQual'].kurt())\n",
    "\n",
    "print('Skewness of YearBuilt before Log Transform : %f'% all_data['YearBuilt'].skew())\n",
    "print('Kurtosis of YearBuilt before Log Transform : %f'% all_data['YearBuilt'].kurt())\n",
    "\n",
    "print('Skewness of YearRemodAdd before Log Transform : %f'% all_data['YearRemodAdd'].skew())\n",
    "print('Kurtosis of YearRemodAdd before Log Transform : %f'% all_data['YearRemodAdd'].kurt())\n",
    "\n",
    "print('Skewness of TotalBsmtSF before Log Transform : %f'% all_data['TotalBsmtSF'].skew())\n",
    "print('Kurtosis of TotalBsmtSF before Log Transform : %f'% all_data['TotalBsmtSF'].kurt())\n",
    "\n",
    "print('Skewness of GarageCars before Log Transform : %f'% all_data['GarageCars'].skew())\n",
    "print('Kurtosis of GarageCars before Log Transform : %f'% all_data['GarageCars'].kurt())\n",
    "\n",
    "print('Skewness of Fireplaces before Log Transform : %f'% all_data['Fireplaces'].skew())\n",
    "print('Kurtosis of Fireplaces before Log Transform : %f'% all_data['Fireplaces'].kurt())\n",
    "\n",
    "\n",
    "'''\n",
    "TotalBsmtSF, OpenPorchSF, LotArea, MasVnrArea\n",
    "These features has high Skewness & Kurtosis\n",
    "'''\n",
    "TotalBsmtSFMean = all_data['TotalBsmtSF'].mean()\n",
    "all_data.loc[all_data['TotalBsmtSF'] == 0, 'TotalBsmtSF'] = np.round(TotalBsmtSFMean).astype(int)\n",
    "all_data['TotalBsmtSF'] = np.log(all_data['TotalBsmtSF'])\n",
    "print('Skewness of TotalBsmtSF after Log Transform : %f'% all_data['TotalBsmtSF'].skew())\n",
    "print('Kurtosis of TotalBsmtSF after Log Transform : %f'% all_data['TotalBsmtSF'].kurt())"
   ]
  },
  {
   "cell_type": "code",
   "execution_count": 8,
   "metadata": {
    "_uuid": "2e1599aaa3f8b064d6218eb0ad3a68bd01b7264a"
   },
   "outputs": [
    {
     "name": "stdout",
     "output_type": "stream",
     "text": [
      "MAE 0.1268650589539061\n",
      "MSE 0.029295184470968707\n",
      "RMSE 0.17115836079773813\n",
      "RMSLE 0.013111350198271749\n"
     ]
    }
   ],
   "source": [
    "num_features = all_data.loc[:,['OverallQual', 'GarageCars', 'YearBuilt',\n",
    "                              'TotalBsmtSF', 'YearRemodAdd','Fireplaces']]\n",
    "\n",
    "train_data_final_features = num_features[:num_train_rows]\n",
    "test_data_final_features = num_features[num_train_rows:]\n",
    "\n",
    "X__num_train , X_num_test, y_num_train, y_num_test = train_test_split(train_data_final_features, target, test_size=0.4, random_state=0)\n",
    "\n",
    "from sklearn.linear_model import Ridge\n",
    "regressor = Ridge(alpha=0.05, normalize=True)\n",
    "regressor.fit(X__num_train, y_num_train)\n",
    "\n",
    "from sklearn import metrics\n",
    "y_train_predict = regressor.predict(X_num_test)\n",
    "print('MAE',metrics.mean_absolute_error(y_num_test, y_train_predict))\n",
    "print('MSE',metrics.mean_squared_error(y_num_test, y_train_predict))\n",
    "print('RMSE',np.sqrt(metrics.mean_squared_error(y_num_test, y_train_predict)))\n",
    "print('RMSLE',np.sqrt(metrics.mean_squared_log_error(y_num_test, y_train_predict)))\n",
    "\n",
    "#y_test_predict = regressor.predict(test_data_final_features)\n",
    "#y_test_final_predict = np.exp(y_test_predict)\n",
    "#test = pd.read_csv('data/test.csv')\n",
    "#my_submission = pd.DataFrame()\n",
    "#my_submission['Id'] = test.Id\n",
    "#my_submission['SalePrice'] = y_test_final_predict\n",
    "#my_submission.to_csv('submission.csv', index=False)"
   ]
  },
  {
   "cell_type": "code",
   "execution_count": null,
   "metadata": {},
   "outputs": [],
   "source": []
  }
 ],
 "metadata": {
  "kernelspec": {
   "display_name": "Python 3",
   "language": "python",
   "name": "python3"
  },
  "language_info": {
   "codemirror_mode": {
    "name": "ipython",
    "version": 3
   },
   "file_extension": ".py",
   "mimetype": "text/x-python",
   "name": "python",
   "nbconvert_exporter": "python",
   "pygments_lexer": "ipython3",
   "version": "3.6.5"
  }
 },
 "nbformat": 4,
 "nbformat_minor": 1
}
